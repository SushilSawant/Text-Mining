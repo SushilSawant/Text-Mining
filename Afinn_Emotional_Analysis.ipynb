{
 "cells": [
  {
   "cell_type": "code",
   "execution_count": null,
   "id": "d394fb47",
   "metadata": {},
   "outputs": [],
   "source": [
    "# Import Libraries\n",
    "import numpy as np\n",
    "import pandas as pd\n",
    "import matplotlib.pyplot as plt\n",
    "import seaborn as ssn\n",
    "ssn.set()\n",
    "import string\n",
    "import spacy\n",
    "\n",
    "from matplotlib.pyplot import imread\n",
    "from wordcloud import WordCloud, STOPWORDS\n",
    "%matplotlib inline"
   ]
  },
  {
   "cell_type": "code",
   "execution_count": null,
   "id": "57c11e53",
   "metadata": {},
   "outputs": [],
   "source": [
    "# Emotion Lexicon - Affin\n",
    "affin=pd.read_csv('Downloads/Afinn.csv',sep=',',encoding='Latin-1')\n",
    "affin"
   ]
  },
  {
   "cell_type": "code",
   "execution_count": null,
   "id": "4d0cfb28",
   "metadata": {},
   "outputs": [],
   "source": [
    "affinity_scores=affin.set_index('word')['value'].to_dict()\n",
    "affinity_scores"
   ]
  },
  {
   "cell_type": "code",
   "execution_count": null,
   "id": "355dcf59",
   "metadata": {},
   "outputs": [],
   "source": [
    "# Custom function: score each word in a sentence in lemmatised form, but calculate the score for the whole original sentence\n",
    "nlp=spacy.load('en_core_web_sm')\n",
    "sentiment_lexicon=affinity_scores\n",
    "\n",
    "def calculate_sentiment(text:str=None):\n",
    "    sent_score=0\n",
    "    if text:\n",
    "        sentence=nlp(text)\n",
    "        for word in sentence:\n",
    "            sent_score+=sentiment_lexicon.get(word.lemma_,0)\n",
    "    return sent_score"
   ]
  },
  {
   "cell_type": "code",
   "execution_count": null,
   "id": "7cd4edad",
   "metadata": {},
   "outputs": [],
   "source": [
    "# manual testing\n",
    "calculate_sentiment(text='great')"
   ]
  },
  {
   "cell_type": "code",
   "execution_count": null,
   "id": "03f7fbdd",
   "metadata": {},
   "outputs": [],
   "source": [
    "# Calculating sentiment value for each sentence\n",
    "sent_df['sentiment_value']=sent_df['sentence'].apply(calculate_sentiment)\n",
    "sent_df['sentiment_value']"
   ]
  },
  {
   "cell_type": "code",
   "execution_count": null,
   "id": "6d9337c3",
   "metadata": {},
   "outputs": [],
   "source": [
    "# how many words are there in a sentence?\n",
    "sent_df['word_count']=sent_df['sentence'].str.split().apply(len)\n",
    "sent_df['word_count']"
   ]
  },
  {
   "cell_type": "code",
   "execution_count": null,
   "id": "2bd93f24",
   "metadata": {},
   "outputs": [],
   "source": [
    "sent_df.sort_values(by='sentiment_value')"
   ]
  },
  {
   "cell_type": "code",
   "execution_count": null,
   "id": "8f389180",
   "metadata": {},
   "outputs": [],
   "source": [
    "# Sentiment score of the whole review\n",
    "sent_df['sentiment_value'].describe()"
   ]
  },
  {
   "cell_type": "code",
   "execution_count": null,
   "id": "07fe5b47",
   "metadata": {},
   "outputs": [],
   "source": [
    "# negative sentiment score of the whole review\n",
    "sent_df[sent_df['sentiment_value']<=0]"
   ]
  },
  {
   "cell_type": "code",
   "execution_count": null,
   "id": "2addb40a",
   "metadata": {},
   "outputs": [],
   "source": [
    "# positive sentiment score of the whole review\n",
    "sent_df[sent_df['sentiment_value']>0]"
   ]
  },
  {
   "cell_type": "code",
   "execution_count": null,
   "id": "fc01f5a7",
   "metadata": {},
   "outputs": [],
   "source": [
    "# Adding index cloumn\n",
    "sent_df['index']=range(0,len(sent_df))\n",
    "sent_df"
   ]
  },
  {
   "cell_type": "code",
   "execution_count": null,
   "id": "25308c8f",
   "metadata": {},
   "outputs": [],
   "source": [
    "# Plotting the sentiment value for whole review\n",
    "import seaborn as sns\n",
    "plt.figure(figsize=(15,10))\n",
    "sns.distplot(sent_df['sentiment_value'])"
   ]
  },
  {
   "cell_type": "code",
   "execution_count": null,
   "id": "5b2f513d",
   "metadata": {},
   "outputs": [],
   "source": [
    "# Plotting the line plot for sentiment value of whole review\n",
    "plt.figure(figsize=(15,10))\n",
    "sns.lineplot(y='sentiment_value',x='index',data=sent_df)"
   ]
  },
  {
   "cell_type": "code",
   "execution_count": null,
   "id": "e4679934",
   "metadata": {},
   "outputs": [],
   "source": [
    "# Correlation analysis\n",
    "sent_df.plot.scatter(x='word_count',y='sentiment_value',figsize=(8,8),title='Sentence sentiment value to sentence word count')"
   ]
  },
  {
   "cell_type": "code",
   "execution_count": null,
   "id": "ecd65ced",
   "metadata": {},
   "outputs": [],
   "source": []
  }
 ],
 "metadata": {
  "kernelspec": {
   "display_name": "Python 3",
   "language": "python",
   "name": "python3"
  },
  "language_info": {
   "codemirror_mode": {
    "name": "ipython",
    "version": 3
   },
   "file_extension": ".py",
   "mimetype": "text/x-python",
   "name": "python",
   "nbconvert_exporter": "python",
   "pygments_lexer": "ipython3",
   "version": "3.7.10"
  }
 },
 "nbformat": 4,
 "nbformat_minor": 5
}
